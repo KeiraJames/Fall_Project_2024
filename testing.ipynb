{
 "cells": [
  {
   "cell_type": "code",
   "execution_count": 1,
   "metadata": {},
   "outputs": [
    {
     "name": "stdin",
     "output_type": "stream",
     "text": [
      "Enter the path to the folder containing photos:  \n"
     ]
    },
    {
     "name": "stdout",
     "output_type": "stream",
     "text": [
      "The folder '' may not exist.\n"
     ]
    }
   ],
   "source": [
    "import os\n",
    "import hashlib\n",
    "from PIL import Image\n",
    "\n",
    "def calculate_hash(image_path):\n",
    "\n",
    "    #Calculate the hash of an image.\n",
    "    with Image.open(image_path) as img:\n",
    "        img = img.convert(\"RGB\")  # Ensure the image is in RGB format\n",
    "        img = img.resize((8, 8))  # Resize to reduce size and create hash\n",
    "        hash_value = hashlib.md5(img.tobytes()).hexdigest()  # Create hash\n",
    "    return hash_value\n",
    "\n",
    "def find_and_remove_duplicates(folder_path):\n",
    "\n",
    "    #Find and remove duplicate images in a given folder.\n",
    "\n",
    "    #If cannot find path/ folder, Print that it does not exist\n",
    "    if not os.path.exists(folder_path):\n",
    "\n",
    "        print(f\"The folder '{folder_path}' may not exist.\")\n",
    "        return\n",
    "\n",
    "    print(f\"Scanning folder: {folder_path}\")\n",
    "\n",
    "    hashes = {}\n",
    "    duplicates = []\n",
    "\n",
    "    for filename in os.listdir(folder_path):# for each file in the folder\n",
    "\n",
    "        if filename.lower().endswith(('.png', '.jpg', '.jpeg', '.gif', '.bmp')):# if file is an image\n",
    "\n",
    "            file_path = os.path.join(folder_path, filename) #generate a path to the specific image\n",
    "\n",
    "            print(f\"Processing file: {file_path}\")  # Debug output\n",
    "\n",
    "            img_hash = calculate_hash(file_path)\n",
    "\n",
    "            if img_hash in hashes:\n",
    "                duplicates.append(file_path)  # Found a duplicate\n",
    "                print(f\"Duplicate found: {file_path} (duplicate of {hashes[img_hash]})\")\n",
    "            else:\n",
    "                hashes[img_hash] = file_path\n",
    "\n",
    "    # Remove duplicates\n",
    "    for duplicate in duplicates:\n",
    "\n",
    "        os.remove(duplicate)\n",
    "        print(f\"Removed duplicate: {duplicate}\")\n",
    "\n",
    "    if not duplicates:\n",
    "        print(\"No duplicates found.\")\n",
    "\n",
    "if __name__ == '__main__':\n",
    "    folder = input(\"Enter the path to the folder containing photos: \")\n",
    "    find_and_remove_duplicates(folder)"
   ]
  },
  {
   "cell_type": "code",
   "execution_count": 2,
   "metadata": {},
   "outputs": [
    {
     "name": "stderr",
     "output_type": "stream",
     "text": [
      "2024-10-14 12:55:43.270694: I tensorflow/core/platform/cpu_feature_guard.cc:210] This TensorFlow binary is optimized to use available CPU instructions in performance-critical operations.\n",
      "To enable the following instructions: AVX2 FMA, in other operations, rebuild TensorFlow with the appropriate compiler flags.\n"
     ]
    },
    {
     "name": "stdout",
     "output_type": "stream",
     "text": [
      "Found 98160 images belonging to 2 classes.\n"
     ]
    }
   ],
   "source": [
    "# Model code starts here\n",
    "import numpy as np\n",
    "from tensorflow.keras import layers, models\n",
    "from tensorflow.keras.preprocessing.image import load_img, img_to_array  # Correct import\n",
    "import os\n",
    "import tensorflow as tf\n",
    "from tensorflow.keras.preprocessing.image import ImageDataGenerator\n",
    "from tensorflow.keras.models import Sequential\n",
    "from tensorflow.keras.layers import Conv2D, MaxPooling2D, Flatten, Dense, Input\n",
    "\n",
    "# Create an ImageDataGenerator to rescale pixel values\n",
    "datagen = ImageDataGenerator(rescale=1.0/255.0)  \n",
    "\n",
    "# Load the images from folders\n",
    "train_data = datagen.flow_from_directory(\n",
    "    '/Users/keirajames/Desktop/archive-2/train/',  # REPLACE THIS FOR YOUR DIRECTORY\n",
    "    target_size=(64, 64),  # Resize images to 64x64 pixels\n",
    "    batch_size=32,         # Load images in batches of 32\n",
    "    class_mode='binary'    # Since we have two types (fake vs real) use binary mode\n",
    ")"
   ]
  },
  {
   "cell_type": "code",
   "execution_count": 3,
   "metadata": {},
   "outputs": [],
   "source": [
    "# Build model\n",
    "model = Sequential()\n",
    "\n",
    "# Add an explicit Input layer\n",
    "model.add(Input(shape=(64, 64, 3)))  # Input layer specifying the image size and 3 channels (RGB)\n",
    "\n",
    "# First convolutional layer\n",
    "model.add(Conv2D(32, (3, 3), activation='relu'))  # No need for input_shape here\n",
    "model.add(MaxPooling2D(pool_size=(2, 2)))  # Max pooling to reduce size\n",
    "\n",
    "# Second convolutional layer\n",
    "model.add(Conv2D(64, (3, 3), activation='relu'))\n",
    "model.add(MaxPooling2D(pool_size=(2, 2)))\n",
    "\n",
    "# Flatten the feature maps into a 1D vector\n",
    "model.add(Flatten())\n",
    "\n",
    "# Fully connected layer\n",
    "model.add(Dense(128, activation='relu'))\n",
    "\n",
    "# Output layer (binary classification: fake vs real)\n",
    "model.add(Dense(1, activation='sigmoid'))\n",
    "\n",
    "# Compile the model\n",
    "model.compile(optimizer='adam', loss='binary_crossentropy', metrics=['accuracy'])\n",
    "\n",
    "# Summary of the model\n",
    "#model.summary()"
   ]
  },
  {
   "cell_type": "code",
   "execution_count": 4,
   "metadata": {},
   "outputs": [
    {
     "name": "stderr",
     "output_type": "stream",
     "text": [
      "/opt/anaconda3/lib/python3.12/site-packages/keras/src/trainers/data_adapters/py_dataset_adapter.py:121: UserWarning: Your `PyDataset` class should call `super().__init__(**kwargs)` in its constructor. `**kwargs` can include `workers`, `use_multiprocessing`, `max_queue_size`. Do not pass these arguments to `fit()`, as they will be ignored.\n",
      "  self._warn_if_super_not_called()\n"
     ]
    },
    {
     "name": "stdout",
     "output_type": "stream",
     "text": [
      "Epoch 1/5\n",
      "\u001b[1m3068/3068\u001b[0m \u001b[32m━━━━━━━━━━━━━━━━━━━━\u001b[0m\u001b[37m\u001b[0m \u001b[1m306s\u001b[0m 98ms/step - accuracy: 0.8297 - loss: 0.3660\n",
      "Epoch 2/5\n",
      "\u001b[1m3068/3068\u001b[0m \u001b[32m━━━━━━━━━━━━━━━━━━━━\u001b[0m\u001b[37m\u001b[0m \u001b[1m306s\u001b[0m 100ms/step - accuracy: 0.9269 - loss: 0.1826\n",
      "Epoch 3/5\n",
      "\u001b[1m3068/3068\u001b[0m \u001b[32m━━━━━━━━━━━━━━━━━━━━\u001b[0m\u001b[37m\u001b[0m \u001b[1m33245s\u001b[0m 11s/step - accuracy: 0.9472 - loss: 0.1343\n",
      "Epoch 4/5\n",
      "\u001b[1m3068/3068\u001b[0m \u001b[32m━━━━━━━━━━━━━━━━━━━━\u001b[0m\u001b[37m\u001b[0m \u001b[1m651s\u001b[0m 212ms/step - accuracy: 0.9626 - loss: 0.0993\n",
      "Epoch 5/5\n",
      "\u001b[1m3068/3068\u001b[0m \u001b[32m━━━━━━━━━━━━━━━━━━━━\u001b[0m\u001b[37m\u001b[0m \u001b[1m663s\u001b[0m 216ms/step - accuracy: 0.9747 - loss: 0.0683\n"
     ]
    },
    {
     "data": {
      "text/plain": [
       "<keras.src.callbacks.history.History at 0x1480e5880>"
      ]
     },
     "execution_count": 4,
     "metadata": {},
     "output_type": "execute_result"
    }
   ],
   "source": [
    "# Train the model\n",
    "model.fit(train_data, epochs=5)  "
   ]
  },
  {
   "cell_type": "code",
   "execution_count": 5,
   "metadata": {},
   "outputs": [
    {
     "name": "stdout",
     "output_type": "stream",
     "text": [
      "\u001b[1m1/1\u001b[0m \u001b[32m━━━━━━━━━━━━━━━━━━━━\u001b[0m\u001b[37m\u001b[0m \u001b[1m0s\u001b[0m 248ms/step\n",
      "\u001b[1m1/1\u001b[0m \u001b[32m━━━━━━━━━━━━━━━━━━━━\u001b[0m\u001b[37m\u001b[0m \u001b[1m0s\u001b[0m 25ms/step\n",
      "\u001b[1m1/1\u001b[0m \u001b[32m━━━━━━━━━━━━━━━━━━━━\u001b[0m\u001b[37m\u001b[0m \u001b[1m0s\u001b[0m 28ms/step\n",
      "\u001b[1m1/1\u001b[0m \u001b[32m━━━━━━━━━━━━━━━━━━━━\u001b[0m\u001b[37m\u001b[0m \u001b[1m0s\u001b[0m 29ms/step\n",
      "\u001b[1m1/1\u001b[0m \u001b[32m━━━━━━━━━━━━━━━━━━━━\u001b[0m\u001b[37m\u001b[0m \u001b[1m0s\u001b[0m 26ms/step\n",
      "\u001b[1m1/1\u001b[0m \u001b[32m━━━━━━━━━━━━━━━━━━━━\u001b[0m\u001b[37m\u001b[0m \u001b[1m0s\u001b[0m 153ms/step\n",
      "\u001b[1m1/1\u001b[0m \u001b[32m━━━━━━━━━━━━━━━━━━━━\u001b[0m\u001b[37m\u001b[0m \u001b[1m0s\u001b[0m 89ms/step\n",
      "0000 (3).jpg: Real\n",
      "0000 (2).jpg: Real\n",
      "7 (9).jpg: Real\n",
      "0000 (5).jpg: Real\n",
      "0000 (4).jpg: Fake\n",
      "7 (10).jpg: Fake\n",
      "7.jpg: Fake\n"
     ]
    }
   ],
   "source": [
    "# Test images here\n",
    "def predict_images_from_directory(directory):\n",
    "    results = []\n",
    "\n",
    "    if not os.path.exists(directory):\n",
    "        print(f\"Directory {directory} does not exist.\")\n",
    "        return []\n",
    "\n",
    "    for filename in os.listdir(directory):\n",
    "        if filename.endswith(('.jpg', '.jpeg', '.png')):\n",
    "            img_path = os.path.join(directory, filename)\n",
    "            img = load_img(img_path, target_size=(64, 64))  # Use load_img from keras\n",
    "            img = img_to_array(img)  # Convert image to array\n",
    "            img = np.expand_dims(img, axis=0)\n",
    "            img = img / 255.0  # Normalize  image\n",
    "            \n",
    "            prediction = model.predict(img)\n",
    "\n",
    "            if prediction[0][0] >= 0.5:\n",
    "                results.append((filename, 'Real'))\n",
    "            else:\n",
    "                results.append((filename, 'Fake'))\n",
    "\n",
    "    return results\n",
    "    \n",
    "# Path to your directory \n",
    "new_image_directory = '/Users/keirajames/Desktop/archive-2/test/photos/'\n",
    "\n",
    "# Get predictions\n",
    "predictions = predict_images_from_directory(new_image_directory)\n",
    "\n",
    "for filename, label in predictions:\n",
    "    print(f\"{filename}: {label}\")\n"
   ]
  }
 ],
 "metadata": {
  "kernelspec": {
   "display_name": "Python 3 (ipykernel)",
   "language": "python",
   "name": "python3"
  },
  "language_info": {
   "codemirror_mode": {
    "name": "ipython",
    "version": 3
   },
   "file_extension": ".py",
   "mimetype": "text/x-python",
   "name": "python",
   "nbconvert_exporter": "python",
   "pygments_lexer": "ipython3",
   "version": "3.12.4"
  }
 },
 "nbformat": 4,
 "nbformat_minor": 4
}
